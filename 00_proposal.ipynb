{
 "cells": [
  {
   "cell_type": "markdown",
   "metadata": {
    "collapsed": true,
    "pycharm": {
     "name": "#%% md\n"
    }
   },
   "source": [
    "# Detecting cheaters in Counter Strike: Global Offensive (CS:GO)\n",
    "\n",
    "### Intro\n",
    "\n",
    "What is CS:GO? Why is this a problem? Professional + Steam problems\n",
    "\n",
    "### Goals\n",
    "This project will apply machine learning to predict cheaters in CS:GO.\n",
    "\n",
    "### Data\n",
    "\n",
    "steam_api = 'DFC*******************'\n",
    "\n",
    "Registered Steam users are identified by a unique Steam ID, which can be\n",
    "used to retrieve public player information, in-game metrics, and instances\n",
    "of bans due to cheating detected by Valve Anti-Cheat (VAC).\n",
    "\n",
    "Steps:\n",
    "1. find steam user ids that are known for cheating: feed user with cheating instances\n",
    "to vacbanned.com. However, this also label players who cheat for other game which is caught by VAC.\n",
    "2. find steam user playing CSGO that is known for not cheating. This turns out\n",
    "to be incredible hard since players range vary and not all VAC detected.\n",
    "Choosing a list of professional players might be the best approach for this\n",
    "as they have less incentives to cheat (or more??)\n",
    "3. compile the list and query into API => get steam data for CSGO => write to CSV\n",
    "\n",
    "Notes:\n",
    "Exclude steam ID without CS:GO or VAC banned before CS:GO release (or not? since this\n",
    "can become another feature => cheat_before). We also exclude new players.\n",
    "\n",
    "### Features\n",
    "\n",
    "The API can returns over 250 features for each user in CS:GO. This means that\n",
    "some thoughtful cleaning must be done. But can deep learning do this by itself?\n",
    "\n",
    "Ex: accuracy_pistol = total_hit_pistol/total_shot_pistol\n",
    "\n",
    "### Models\n",
    "\n",
    "Apply ML or deep learning"
   ]
  }
 ],
 "metadata": {
  "kernelspec": {
   "display_name": "Python 3",
   "language": "python",
   "name": "python3"
  },
  "language_info": {
   "codemirror_mode": {
    "name": "ipython",
    "version": 2
   },
   "file_extension": ".py",
   "mimetype": "text/x-python",
   "name": "python",
   "nbconvert_exporter": "python",
   "pygments_lexer": "ipython2",
   "version": "2.7.6"
  }
 },
 "nbformat": 4,
 "nbformat_minor": 0
}