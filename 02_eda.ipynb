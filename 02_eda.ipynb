{
 "cells": [
  {
   "cell_type": "markdown",
   "metadata": {
    "collapsed": true,
    "pycharm": {
     "name": "#%% md\n"
    }
   },
   "source": [
    "# Exploratory Data Analysis\n",
    "\n",
    "Structure:\n",
    "1.\n",
    "2.\n",
    "3.\n",
    "4.\n",
    "\n",
    "This is how"
   ]
  },
  {
   "cell_type": "code",
   "execution_count": 1,
   "outputs": [],
   "source": [
    "import numpy as np\n",
    "import pandas as pd\n",
    "\n",
    "import matplotlib.pyplot as plt\n",
    "import seaborn as sns\n",
    "\n",
    "from csgo_cheater_detection.config.config import *"
   ],
   "metadata": {
    "collapsed": false,
    "pycharm": {
     "name": "#%%\n"
    }
   }
  },
  {
   "cell_type": "code",
   "source": [
    "# load data\n",
    "df = pd.read_csv(f'{data_path}\\\\csgo_cheater_data_8_30_20_full.csv')\n",
    "df.info()#%% md"
   ],
   "metadata": {
    "collapsed": false,
    "pycharm": {
     "name": "#%%\n"
    }
   },
   "execution_count": null,
   "outputs": []
  },
  {
   "cell_type": "markdown",
   "source": [
    "## Part 1: Labels\n",
    "\n",
    "This is an imbalanced dataset: there are more non-cheaters and cheaters."
   ],
   "metadata": {
    "collapsed": false,
    "pycharm": {
     "name": "#%% md\n"
    }
   }
  },
  {
   "cell_type": "code",
   "execution_count": 10,
   "outputs": [
    {
     "data": {
      "text/plain": "False    11661\nTrue      2466\nName: label, dtype: int64"
     },
     "execution_count": 10,
     "metadata": {},
     "output_type": "execute_result"
    }
   ],
   "source": [
    "df.label.value_counts()"
   ],
   "metadata": {
    "collapsed": false,
    "pycharm": {
     "name": "#%%\n"
    }
   }
  },
  {
   "cell_type": "code",
   "execution_count": 13,
   "outputs": [
    {
     "name": "stdout",
     "output_type": "stream",
     "text": [
      "Index(['total_planted_bombs', 'total_damage_done', 'total_money_earned',\n",
      "       'total_rescued_hostages', 'total_kills_knife', 'total_kills_glock',\n",
      "       'total_kills_deagle', 'total_kills_elite', 'total_kills_fiveseven',\n",
      "       'total_kills_xm1014',\n",
      "       ...\n",
      "       'accuracy_bizon', 'accuracy_tec9', 'accuracy_mag7', 'accuracy_m4a1',\n",
      "       'accuracy_galilar', 'win_ratio', 'kill_to_death_ratio',\n",
      "       'total_wins_per_hour', 'mvp_per_round', 'total_headshots_per_round'],\n",
      "      dtype='object', length=190)\n"
     ]
    }
   ],
   "source": [
    "print(df.columns)"
   ],
   "metadata": {
    "collapsed": false,
    "pycharm": {
     "name": "#%%\n"
    }
   }
  }
 ],
 "metadata": {
  "kernelspec": {
   "display_name": "Python 3",
   "language": "python",
   "name": "python3"
  },
  "language_info": {
   "codemirror_mode": {
    "name": "ipython",
    "version": 2
   },
   "file_extension": ".py",
   "mimetype": "text/x-python",
   "name": "python",
   "nbconvert_exporter": "python",
   "pygments_lexer": "ipython2",
   "version": "2.7.6"
  }
 },
 "nbformat": 4,
 "nbformat_minor": 0
}